{
 "cells": [
  {
   "cell_type": "code",
   "execution_count": 2,
   "metadata": {},
   "outputs": [],
   "source": [
    "import tensorflow as tf\n",
    "import pandas as pd\n",
    "import numpy as np"
   ]
  },
  {
   "cell_type": "code",
   "execution_count": 3,
   "metadata": {},
   "outputs": [],
   "source": [
    "df = pd.read_csv(\"Churn_Modelling.csv\")\n",
    "x = df.iloc[:,3:13].values\n",
    "y = df.iloc[:,13].values"
   ]
  },
  {
   "cell_type": "code",
   "execution_count": 4,
   "metadata": {},
   "outputs": [],
   "source": [
    "from sklearn.preprocessing import LabelEncoder, OneHotEncoder\n",
    "labelencoder_X_1 = LabelEncoder()\n",
    "x[:, 1] = labelencoder_X_1.fit_transform(x[:, 1])\n",
    "labelencoder_X_2 = LabelEncoder()\n",
    "x[:, 2] = labelencoder_X_2.fit_transform(x[:, 2])\n",
    "onehotencoder = OneHotEncoder(categorical_features = [1])\n",
    "x = onehotencoder.fit_transform(x).toarray()\n",
    "x = x[:, 1:]"
   ]
  },
  {
   "cell_type": "code",
   "execution_count": 5,
   "metadata": {},
   "outputs": [],
   "source": [
    "from sklearn.model_selection import train_test_split\n",
    "x_train, x_test, y_train, y_test = train_test_split(x, y, test_size = 0.3, random_state = 1)"
   ]
  },
  {
   "cell_type": "code",
   "execution_count": 6,
   "metadata": {},
   "outputs": [],
   "source": [
    "from sklearn.preprocessing import StandardScaler\n",
    "standardScalar = StandardScaler()\n",
    "x_train = standardScalar.fit_transform(x_train)\n",
    "x_test = standardScalar.fit_transform(x_test)"
   ]
  },
  {
   "cell_type": "code",
   "execution_count": 16,
   "metadata": {},
   "outputs": [
    {
     "data": {
      "text/plain": [
       "array([[0],\n",
       "       [0],\n",
       "       [0],\n",
       "       [0],\n",
       "       [0],\n",
       "       [0],\n",
       "       [0],\n",
       "       [0],\n",
       "       [0],\n",
       "       [0]], dtype=int64)"
      ]
     },
     "execution_count": 16,
     "metadata": {},
     "output_type": "execute_result"
    }
   ],
   "source": [
    "x_train = x_train[:10]\n",
    "x_test = x_test[:10]\n",
    "\n",
    "y_train = y_train[:10]\n",
    "y_test = y_test[:10]\n",
    "\n",
    "x_train = np.asarray(x_train)\n",
    "x_test = np.asarray(x_test)\n",
    "\n",
    "y_train = np.asarray(y_train)\n",
    "y_test = np.asarray(y_test)\n",
    "\n",
    "y_train = y_train.reshape([10,1])\n",
    "y_test = y_test.reshape([10,1])\n",
    "y_test"
   ]
  },
  {
   "cell_type": "code",
   "execution_count": 36,
   "metadata": {},
   "outputs": [],
   "source": [
    "n_h1 = 16\n",
    "n_h2 = 16\n",
    "n_classes = 2\n",
    "\n",
    "x = tf.placeholder(tf.float32)\n",
    "y = tf.placeholder(tf.float32)\n",
    "\n",
    "n_samples = y_train.size"
   ]
  },
  {
   "cell_type": "code",
   "execution_count": 42,
   "metadata": {},
   "outputs": [],
   "source": [
    "def model(data):\n",
    "    \n",
    "    h1 = { \"weight\": tf.Variable(tf.random_normal([11,n_h1])),\n",
    "              \"biases\" :tf.Variable( tf.random_normal([n_h1])) }\n",
    "    h2 = { \"weight\": tf.Variable(tf.random_normal([n_h1,n_h2])),\n",
    "              \"biases\" :tf.Variable(tf.random_normal([n_h2])) }\n",
    "    output_layer = { \"weight\": tf.Variable(tf.random_normal([n_h2,n_classes])),\n",
    "              \"biases\" :tf.Variable(tf.random_normal([n_classes])) }\n",
    "\n",
    "\n",
    "    l1 = tf.add(tf.matmul(data,h1[\"weight\"]),h1[\"biases\"])\n",
    "    l1 = tf.nn.relu(l1)\n",
    "\n",
    "    l2 = tf.add(tf.matmul(l1,h2[\"weight\"]),h2[\"biases\"])\n",
    "    l2 = tf.nn.relu(l2)\n",
    "\n",
    "    output = tf.add(tf.matmul(l2,output_layer[\"weight\"]),output_layer[\"biases\"])\n",
    "    #output = tf.nn.sigmoid(output)\n",
    "    \n",
    "    return output\n"
   ]
  },
  {
   "cell_type": "code",
   "execution_count": 43,
   "metadata": {},
   "outputs": [],
   "source": [
    "def train(x):\n",
    "    predict = model(x)\n",
    "    \n",
    "   \n",
    "    cost = tf.reduce_mean(tf.nn.softmax_cross_entropy_with_logits_v2(logits=predict,labels=y))\n",
    "    optimizer = tf.train.AdamOptimizer().minimize(cost)\n",
    "    \n",
    "    hm_epoch = 1000\n",
    "    \n",
    "    with tf.Session() as sess:\n",
    "        sess.run(tf.global_variables_initializer())\n",
    "       \n",
    "        loss = 0\n",
    "        \n",
    "        for i in range(hm_epoch):\n",
    "            c = sess.run([optimizer, cost], feed_dict = { x:x_train, y:y_train })\n",
    "            \n",
    "            \n",
    "            if (i) % 20 == 0:\n",
    "                print(c)\n",
    "   \n",
    "                \n",
    "        \n",
    "    "
   ]
  },
  {
   "cell_type": "code",
   "execution_count": 44,
   "metadata": {},
   "outputs": [
    {
     "name": "stdout",
     "output_type": "stream",
     "text": [
      "[None, 1.4700663]\n",
      "[None, 0.93711126]\n",
      "[None, 0.40838784]\n",
      "[None, 0.13896441]\n",
      "[None, 0.1460236]\n",
      "[None, 0.14256626]\n",
      "[None, 0.14132914]\n",
      "[None, 0.14117828]\n",
      "[None, 0.14183237]\n",
      "[None, 0.14124298]\n",
      "[None, 0.1417226]\n",
      "[None, 0.13907191]\n",
      "[None, 0.13971202]\n",
      "[None, 0.13912371]\n",
      "[None, 0.14141266]\n",
      "[None, 0.14207983]\n",
      "[None, 0.14197607]\n",
      "[None, 0.14315076]\n",
      "[None, 0.14727466]\n",
      "[None, 0.14875937]\n",
      "[None, 0.14569743]\n",
      "[None, 0.14490993]\n",
      "[None, 0.14381719]\n",
      "[None, 0.14444283]\n",
      "[None, 0.14679465]\n",
      "[None, 0.14683104]\n",
      "[None, 0.14145058]\n",
      "[None, 0.13888443]\n",
      "[None, 0.13878486]\n",
      "[None, 0.14061458]\n",
      "[None, 0.14964953]\n",
      "[None, 0.1386964]\n",
      "[None, 0.13867797]\n",
      "[None, 0.13889423]\n",
      "[None, 0.14024147]\n",
      "[None, 0.13917302]\n",
      "[None, 0.13985482]\n",
      "[None, 0.20156138]\n",
      "[None, 0.34106955]\n",
      "[None, 0.3164875]\n",
      "[None, 0.16180167]\n",
      "[None, 0.13912469]\n",
      "[None, 0.1396456]\n",
      "[None, 0.1448184]\n",
      "[None, 0.1435546]\n",
      "[None, 0.14245315]\n",
      "[None, 0.14352256]\n",
      "[None, 0.14658871]\n",
      "[None, 0.14998312]\n",
      "[None, 0.15422662]\n"
     ]
    }
   ],
   "source": [
    "train(x)"
   ]
  },
  {
   "cell_type": "code",
   "execution_count": null,
   "metadata": {},
   "outputs": [],
   "source": []
  }
 ],
 "metadata": {
  "kernelspec": {
   "display_name": "Python 3",
   "language": "python",
   "name": "python3"
  },
  "language_info": {
   "codemirror_mode": {
    "name": "ipython",
    "version": 3
   },
   "file_extension": ".py",
   "mimetype": "text/x-python",
   "name": "python",
   "nbconvert_exporter": "python",
   "pygments_lexer": "ipython3",
   "version": "3.5.0"
  }
 },
 "nbformat": 4,
 "nbformat_minor": 2
}
